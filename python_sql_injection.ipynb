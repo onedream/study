{
 "cells": [
  {
   "cell_type": "code",
   "execution_count": null,
   "metadata": {},
   "outputs": [],
   "source": [
    "#1. 导包\n",
    "import requests\n",
    "#2. 指定url\n",
    "url = \"https://www.baidu.com\"\n",
    "#3. 使用GET方法发送请求，该方法会返回一个响应对象\n",
    "response = requests.get(url=url)\n",
    "#4. 获取响应数据\n",
    "print(response.status_code)  # 打印状态码\n",
    "print(response.url)          # 打印请求url\n",
    "print(response.headers)      # 打印响应头头信息\n",
    "print(response.text)         #以文本形式打印网页源码\n",
    " \n",
    "#保存数据\n",
    "response.encoding = 'utf-8'  #指定编码格式，不然打开乱码\n",
    "text = response.text\n",
    "with open('./2.html','w',encoding='utf-8') as f:\n",
    "    f.write(text)"
   ]
  }
 ],
 "metadata": {
  "kernelspec": {
   "display_name": "Python 3",
   "language": "python",
   "name": "python3"
  },
  "language_info": {
   "codemirror_mode": {
    "name": "ipython",
    "version": 3
   },
   "file_extension": ".py",
   "mimetype": "text/x-python",
   "name": "python",
   "nbconvert_exporter": "python",
   "pygments_lexer": "ipython3",
   "version": "3.11.1"
  },
  "orig_nbformat": 4,
  "vscode": {
   "interpreter": {
    "hash": "bceb2864bca63b5bb1e052a6e7cce55128067d3216fe138f4f50421515047052"
   }
  }
 },
 "nbformat": 4,
 "nbformat_minor": 2
}
